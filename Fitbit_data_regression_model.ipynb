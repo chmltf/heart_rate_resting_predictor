{
 "cells": [
  {
   "cell_type": "markdown",
   "metadata": {},
   "source": [
    "# Resting Heart Rate Regression Model Using Fitbit data"
   ]
  },
  {
   "cell_type": "markdown",
   "metadata": {},
   "source": [
    "Resting heart rate (RHR) is a person's heart rate when they are physically inactive and even mentally unstimulated (or resting). Often one's RHR thought to be a predictor of health, with typical values in the range of 50-90 beats per minute. \n",
    "\n",
    "Since RHR can be lowered by exercise and overall improving your health, I thought I would try to predict my RHR based on my activity level and time asleep supplied by my Fitbit data. Fitbit also tracks your heart rate, measuring it and recording it every 10 minutes. \n",
    "\n",
    "The aim of this project is to predict my RHR based on three features-- daily minutes walked, daily minutes of working out, and daily sleep duration in minutes. The target is my RHR, calculated by averaging my heart rate between 1 AM and 5:30 AM every night while I am asleep. I will first train a linear regression model using this data."
   ]
  },
  {
   "cell_type": "code",
   "execution_count": 1,
   "metadata": {},
   "outputs": [],
   "source": [
    "import os\n",
    "import pandas as pd \n",
    "import numpy as np\n",
    "import glob\n",
    "import datetime\n",
    "import matplotlib.pyplot as plt"
   ]
  },
  {
   "cell_type": "markdown",
   "metadata": {},
   "source": [
    "Below, we import the heart rate, sleep, and exericse data. We only extract the data we will turn into features."
   ]
  },
  {
   "cell_type": "code",
   "execution_count": 4,
   "metadata": {},
   "outputs": [
    {
     "name": "stdout",
     "output_type": "stream",
     "text": [
      "             dateTime     0\n",
      "0 2020-06-13 13:58:03  68.0\n",
      "1 2020-06-13 13:58:18  69.0\n",
      "2 2020-06-13 13:58:33  71.0\n",
      "3 2020-06-13 13:58:38  72.0\n",
      "4 2020-06-13 13:58:43  72.0\n",
      "  dateOfSleep  minutesAsleep\n",
      "0  2019-03-22            433\n",
      "1  2019-03-21            435\n",
      "2  2019-03-20            512\n",
      "3  2019-03-19             64\n",
      "4  2019-03-19            336\n",
      "            startTime activityName duration\n",
      "0 2019-02-21 17:13:22         Walk  24.8005\n",
      "1 2019-02-22 17:10:26         Walk   15.367\n",
      "2 2019-02-23 01:39:02         Walk  11.9336\n",
      "3 2019-02-24 23:36:10         Walk  30.7173\n",
      "4 2019-02-25 17:30:31         Walk  19.6337\n"
     ]
    }
   ],
   "source": [
    "heart_rate_data = pd.DataFrame()\n",
    "for heart_rate_file in glob.glob(os.path.join(os.getcwd(), 'LaurenFleming_original_data/Physical_Activity/heart_rate-202*')):       \n",
    "   df = pd.read_json(heart_rate_file)\n",
    "   bpm = list()\n",
    "   index_list = list(range(len(df.index)))\n",
    "   for index in index_list:\n",
    "       bpm_point = df.loc[index, 'value']['bpm']\n",
    "       bpm_point = np.float64(bpm_point)\n",
    "       bpm.append(bpm_point)\n",
    "   bpm = pd.Series(bpm)\n",
    "   da = pd.concat([df['dateTime'], bpm], axis = 1)\n",
    "   heart_rate_data = heart_rate_data.append(da) \n",
    "\n",
    "sleep_data = pd.DataFrame() \n",
    "for sleep_file in glob.glob(os.path.join(os.getcwd(), 'LaurenFleming_original_data/Sleep/sleep-20*')):\n",
    "   df = pd.read_json(sleep_file)\n",
    "   da = pd.concat([pd.to_datetime(df['dateOfSleep']), df['minutesAsleep']], axis = 1)\n",
    "   sleep_data = sleep_data.append(da)\n",
    "\n",
    "exercise_data = pd.DataFrame() \n",
    "for exercise_file in glob.glob(os.path.join(os.getcwd(), 'LaurenFleming_original_data/Physical_Activity/exercise*')):\n",
    "   df = pd.read_json(exercise_file, dtype = True)\n",
    "   da = pd.DataFrame([df['startTime'], df['activityName'], df['duration']*1.6667e-5]) #convert duration from milliseconds to min\n",
    "   da = da.transpose()\n",
    "   da['startTime'] = pd.to_datetime(da['startTime'])\n",
    "   exercise_data = exercise_data.append(da) \n",
    "\n",
    "print(heart_rate_data.head())\n",
    "print(sleep_data.head())\n",
    "print(exercise_data.head())"
   ]
  },
  {
   "cell_type": "markdown",
   "metadata": {},
   "source": [
    "Next, we calculate the RHR between 1 AM and 5:30 AM every day. We now have a resting heart rate for each day that data was collected. It shows us we have 439 days of heart rate data (the number of rows in the DataFrame)."
   ]
  },
  {
   "cell_type": "code",
   "execution_count": 5,
   "metadata": {},
   "outputs": [
    {
     "name": "stderr",
     "output_type": "stream",
     "text": [
      "C:\\Users\\Lauren-Nizkorodov\\AppData\\Local\\Programs\\Python\\Python38-32\\lib\\site-packages\\pandas\\core\\indexing.py:845: SettingWithCopyWarning: \n",
      "A value is trying to be set on a copy of a slice from a DataFrame.\n",
      "Try using .loc[row_indexer,col_indexer] = value instead\n",
      "\n",
      "See the caveats in the documentation: https://pandas.pydata.org/pandas-docs/stable/user_guide/indexing.html#returning-a-view-versus-a-copy\n",
      "  self.obj[key] = _infer_fill_value(value)\n",
      "C:\\Users\\Lauren-Nizkorodov\\AppData\\Local\\Programs\\Python\\Python38-32\\lib\\site-packages\\pandas\\core\\indexing.py:966: SettingWithCopyWarning: \n",
      "A value is trying to be set on a copy of a slice from a DataFrame.\n",
      "Try using .loc[row_indexer,col_indexer] = value instead\n",
      "\n",
      "See the caveats in the documentation: https://pandas.pydata.org/pandas-docs/stable/user_guide/indexing.html#returning-a-view-versus-a-copy\n",
      "  self.obj[item] = s\n"
     ]
    },
    {
     "data": {
      "text/plain": [
       "<bound method DataFrame.info of                   bpm\n",
       "date                 \n",
       "2020-06-14  65.616183\n",
       "2020-06-15  62.998874\n",
       "2020-06-16  59.206481\n",
       "2020-06-17  61.912371\n",
       "2020-06-19  60.634325\n",
       "...               ...\n",
       "2021-01-16  59.763559\n",
       "2021-01-17  57.647002\n",
       "2021-01-18  59.039645\n",
       "2021-01-19  58.032787\n",
       "2021-01-20  62.293760\n",
       "\n",
       "[217 rows x 1 columns]>"
      ]
     },
     "execution_count": 5,
     "metadata": {},
     "output_type": "execute_result"
    }
   ],
   "source": [
    "start = datetime.time(1,0,0)\n",
    "end = datetime.time(5,30,0)\n",
    "\n",
    "#heart_rate_data = heart_rate_data.drop(['level_0', 'index'], axis = 1)\n",
    "heart_rate_data.columns = ['dateTime', 'bpm']\n",
    "heart_rate_data.loc[:,'dateTime'] = pd.DatetimeIndex(heart_rate_data.loc[:,'dateTime'])\n",
    "heart_rate_data.set_index(keys = 'dateTime', inplace = True)\n",
    "rhrData = heart_rate_data.between_time(start, end) #Return DataFrame with data between 1 AM and 5:30 AM, average of which will be RHR\n",
    "rhrData.reset_index(inplace = True)\n",
    "rhrData.head()\n",
    "rhrData.columns = ['dateTime', 'bpm']\n",
    "rhrData.loc[:,'date'] = rhrData.loc[:,'dateTime'].dt.date\n",
    "rhr_df = pd.pivot_table(rhrData, values = 'bpm', index = 'date', aggfunc = np.mean)\n",
    "rhr_df.info"
   ]
  },
  {
   "cell_type": "markdown",
   "metadata": {},
   "source": [
    "For the exercise data, we sum the daily number of minutes for each activity using a pivot table. \n",
    "We discard running and biking activities since I don't seem to do these activities (they are null). I combined sport and aerobic workouts since my fitbit registers my workout using either of these activities.\n",
    "\n",
    "The sleep data doesn't require much manipulation. All that's needed is to set the date as the index of the DataFrame for a successful join of all DataFrames."
   ]
  },
  {
   "cell_type": "code",
   "execution_count": 6,
   "metadata": {},
   "outputs": [],
   "source": [
    "exercise_data['date'] = exercise_data['startTime'].dt.date\n",
    "exercise_data_df = pd.pivot_table(exercise_data, values = 'duration', columns = 'activityName', index = 'date', aggfunc = np.sum)\n",
    "exercise_data_df.drop(['Run', 'Outdoor Bike'], axis = 1, inplace = True)   #Run and outdoor bike activities are completely null\n",
    "exercise_data_df = exercise_data_df.fillna(0)\n",
    "exercise_data_df['workout'] = exercise_data_df['Aerobic Workout'] + exercise_data_df['Sport']  #Working out can register on Fitbit as either of these\n",
    "exercise_data_df.drop(['Aerobic Workout', 'Sport'], axis = 1, inplace = True) #Don't need this now, just clean up step\n",
    "\n",
    "sleep_data.set_index('dateOfSleep', inplace = True)"
   ]
  },
  {
   "cell_type": "markdown",
   "metadata": {},
   "source": [
    "The exercise, sleep, and RHR data are joined on the date in a single table.\n",
    "\n",
    "The index list is shuffled, and 80% of the data goes into the test set, 10% in the cross validation set, and the remaining 10% in the test set."
   ]
  },
  {
   "cell_type": "code",
   "execution_count": 7,
   "metadata": {},
   "outputs": [],
   "source": [
    "all_data = exercise_data_df.join([sleep_data, rhr_df])\n",
    "all_data.dropna(axis = 0, inplace = True)\n",
    "all_data.reset_index(inplace = True)\n",
    "all_data.drop('index', axis = 1, inplace = True)\n",
    "index_list = list(range(0, round(len(all_data))))\n",
    "np.random.shuffle(index_list)\n",
    "trainIndex = index_list[0:(round(0.8*len(index_list)))]\n",
    "crossValIndex = index_list[len(trainIndex): round((((len(index_list)-len(trainIndex))/2) + len(trainIndex)))]\n",
    "testIndex = index_list[(len(trainIndex) + len(crossValIndex)) :]"
   ]
  },
  {
   "cell_type": "markdown",
   "metadata": {},
   "source": [
    "The data is split up according to the assigned indices. The data is split into X, comprised of insta.nces of features (daily workout min, daily walking min, and sleep duration in minutes. The corresponding y values are the calculated resting heart rate based on the heart rate data. The intercept \"feature\" (x0) is added, which is just a feature of ones."
   ]
  },
  {
   "cell_type": "code",
   "execution_count": 8,
   "metadata": {},
   "outputs": [],
   "source": [
    "X = all_data.iloc[:,:-1]\n",
    "Xtrain = X.loc[trainIndex, :]\n",
    "Xtrain = Xtrain.to_numpy()\n",
    "Xtrain = np.c_[np.ones((Xtrain.shape[0],1)), Xtrain]\n",
    "y = all_data.loc[:,'bpm'].to_numpy()\n",
    "ytrain = y[trainIndex]\n",
    "XcrossVal = X.loc[crossValIndex, :].to_numpy()\n",
    "XcrossVal = np.c_[np.ones((XcrossVal.shape[0],1)), XcrossVal]\n",
    "ycrossVal = y[crossValIndex]\n",
    "Xtest = X.loc[testIndex, :].to_numpy()\n",
    "Xtest = np.c_[np.ones((Xtest.shape[0],1)), Xtest]\n",
    "ytest = y[testIndex]"
   ]
  },
  {
   "cell_type": "markdown",
   "metadata": {},
   "source": [
    "Theta is solved for first using the normal equation, and precitions of RHR (y_predict) are made for the cross validation set based on the calculated theta parameters.\n",
    "\n",
    "Next, the Sci-kit Learn library is used to determine theta based on the same test set. Predictions of RHR are made again on the cross validation set to compare to the normal equation method. The graph shows the difference in the methods predictions, which are nearly zero (on the order of 10E-13) for all cross validation instances."
   ]
  },
  {
   "cell_type": "code",
   "execution_count": 9,
   "metadata": {},
   "outputs": [
    {
     "data": {
      "image/png": "[encoded data removed]",
      "text/plain": [
       "<Figure size 432x288 with 1 Axes>"
      ]
     },
     "metadata": {
      "needs_background": "light"
     },
     "output_type": "display_data"
    },
    {
     "name": "stdout",
     "output_type": "stream",
     "text": [
      "the normal equation found theta to be  [ 6.43724387e+01  3.13391318e-03 -7.73790052e-02 -8.27474425e-03] with a cost of  5.254505760692925\n",
      "sci-kit learn found theta to be  64.37243871779236 [ 0.          0.00313391 -0.07737901 -0.00827474]\n"
     ]
    }
   ],
   "source": [
    "#My model\n",
    "theta_best = np.linalg.inv(Xtrain.T.dot(Xtrain)).dot(Xtrain.T).dot(ytrain) #use normal equation to find theta since have relatively small training set\n",
    "y_predict = XcrossVal.dot(theta_best)\n",
    "sq_error = np.square((y_predict - ycrossVal))\n",
    "J = (1/2/len(y_predict)) * sum(sq_error)\n",
    "\n",
    "#sklearn model\n",
    "from sklearn.linear_model import LinearRegression\n",
    "lin_reg = LinearRegression()\n",
    "lin_reg.fit(Xtrain, ytrain)\n",
    "lin_reg.intercept_, lin_reg.coef_\n",
    "y_predict_sklearn = lin_reg.predict(XcrossVal)\n",
    "fig, ax = plt.subplots()\n",
    "ax.plot(y_predict - y_predict_sklearn)\n",
    "ax.set(xlabel='Cross Validation Instance #', ylabel='Difference in predictions from two models')\n",
    "plt.show()\n",
    "\n",
    "print('the normal equation found theta to be ' , theta_best, 'with a cost of ', J)\n",
    "print('sci-kit learn found theta to be ' , lin_reg.intercept_, lin_reg.coef_)"
   ]
  },
  {
   "cell_type": "markdown",
   "metadata": {},
   "source": [
    "The predictions of resting heart rate are not good, though. The predictions are in a smaller range from 60-68, whereas my actual RHR range was 50-80."
   ]
  },
  {
   "cell_type": "code",
   "execution_count": 10,
   "metadata": {},
   "outputs": [
    {
     "data": {
      "image/png": "[encoded data removed]",
      "text/plain": [
       "<Figure size 432x288 with 1 Axes>"
      ]
     },
     "metadata": {
      "needs_background": "light"
     },
     "output_type": "display_data"
    }
   ],
   "source": [
    "fig, ax = plt.subplots()\n",
    "ax.plot(ycrossVal, y_predict, 'ro')\n",
    "ax.set(xlabel='actual RHR', ylabel='predicted RHR')\n",
    "plt.show()"
   ]
  },
  {
   "cell_type": "markdown",
   "metadata": {},
   "source": [
    "To figure out if variance or bias is the problem with our model (or a bit of both), we make learning curves.\n",
    "\n",
    "Bias is a result of the model underfitting the data, and to make a better model we can add polynomial features or add more features.\n",
    "Variance is a result of the model overfitting the data. To recify this, a larger training set could help."
   ]
  },
  {
   "cell_type": "code",
   "execution_count": 37,
   "metadata": {},
   "outputs": [
    {
     "name": "stdout",
     "output_type": "stream",
     "text": [
      "[]\n",
      "[ 6.66374508e+01 -4.85375806e-03 -4.24077683e-02 -1.10208479e-02]\n",
      "(63, 3)\n"
     ]
    },
    {
     "data": {
      "image/png": "[encoded data removed]",
      "text/plain": [
       "<Figure size 432x288 with 1 Axes>"
      ]
     },
     "metadata": {
      "needs_background": "light"
     },
     "output_type": "display_data"
    }
   ],
   "source": [
    "def computeTheta(Xtrain, ytrain):\n",
    "\ttheta = np.linalg.inv(Xtrain.T.dot(Xtrain)).dot(Xtrain.T).dot(ytrain)\n",
    "\treturn theta\n",
    "\n",
    "def computeCost(m, yPredict, y):\n",
    "\tsq_error = np.square((yPredict - y))\n",
    "\tJ = (1/2/m) * sum(sq_error)\n",
    "\treturn J\n",
    "\n",
    "learning_curve_data = np.array([])\n",
    "print(learning_curve_data)\n",
    "i = list(range(20, round(len(index_list)/2)))\n",
    "\n",
    "for a in i:\n",
    "\tnp.random.shuffle(index_list)\n",
    "\tall_data.loc[index_list, :]\n",
    "\ttrainData = all_data.loc[0:a, :]\n",
    "\tcrossValData = all_data.loc[(a+1):(a+1+len(crossValIndex)), :]\n",
    "\tXtrain = trainData.iloc[:, :-1]\n",
    "\tXtrain = Xtrain.to_numpy()\n",
    "\tXtrain = np.c_[np.ones((Xtrain.shape[0],1)), Xtrain]\n",
    "\tytrain = trainData.loc[:, 'bpm']\n",
    "\tXCV = crossValData.iloc[:, :-1]\n",
    "\tXCV = XCV.to_numpy()\n",
    "\tXCV = np.c_[np.ones((XCV.shape[0],1)), XCV]\n",
    "\tyCV = crossValData.loc[:, 'bpm']\n",
    "\ttheta = computeTheta(Xtrain, ytrain)\n",
    "\tyPredictCV = XCV.dot(theta)\n",
    "\tyPredictTrain = Xtrain.dot(theta)\n",
    "\tJtrain = computeCost(a, yPredictTrain, ytrain)\n",
    "\tJCV = computeCost(a, yPredictCV, yCV)\n",
    "\titeration = np.array([a, Jtrain, JCV])\n",
    "\tlearning_curve_data = np.concatenate((learning_curve_data, iteration), axis = 0)\n",
    "\n",
    "print(theta)\n",
    "learning_curve_data = np.reshape(learning_curve_data, (-1, 3))  \n",
    "print(learning_curve_data.shape)\n",
    "fig, ax = plt.subplots()\n",
    "ax.plot(learning_curve_data[:, 0], learning_curve_data[:, 1], 'b-', label = 'Training set')\n",
    "ax.plot(learning_curve_data[:, 0], learning_curve_data[:, 2], 'g-', label = 'Cross Validation Set')\n",
    "ax.set(xlabel='training set size', ylabel='Cost ')\n",
    "ax.legend()\n",
    "plt.show()\n"
   ]
  },
  {
   "cell_type": "markdown",
   "metadata": {},
   "source": [
    "The cost for the training set increases with the training set size since with every instance added it becomes harder to perfectly fit the data. The cross validation set has a high cost to begin with and decreases as there are more training examples and theta fits generalized data better (and not just fits the training set). \n",
    "\n",
    "Adding more training instances is not likely to help decrease the cost further. Instead, we will try polynomial features."
   ]
  },
  {
   "cell_type": "markdown",
   "metadata": {},
   "source": [
    "The next model I am trying is: (walk minutes)^2 + (workout minutes)^2 + (time asleep)^2 = resting heart rate\n",
    "\n",
    "I first square all of the features, then compute theta, and predict the resting heart rate in the same way as before."
   ]
  },
  {
   "cell_type": "code",
   "execution_count": 67,
   "metadata": {},
   "outputs": [
    {
     "name": "stdout",
     "output_type": "stream",
     "text": [
      "The cross validation cost for the model with squared features is 18.589269727253825\n",
      "The cross validation cost for the model with squared features is 13.594339249096109\n"
     ]
    }
   ],
   "source": [
    "square_all_data = all_data.iloc[:, :-1] ** 2\n",
    "all_ys = all_data.iloc[:, -1]\n",
    "train_set_size = round(len(all_data)*0.8)  #80% of all instances go into the training set\n",
    "CrossVal_set_size = round(len(all_data)*0.095)  #10% of all instances go into the cross val set\n",
    "test_set_size = round(len(all_data)*0.095)  #10% of all instances go into the test set\n",
    "trainSetIndex = list(range(0, train_set_size))\n",
    "CrossValIndex = list(range(train_set_size, train_set_size + CrossVal_set_size))\n",
    "testSetIndex = list(range(CrossVal_set_size + train_set_size, CrossVal_set_size + test_set_size + train_set_size))\n",
    "\n",
    "XtrainSquared = square_all_data.iloc[trainSetIndex, :]\n",
    "XtrainSquared = XtrainSquared.to_numpy()\n",
    "XtrainSquared = np.c_[np.ones((XtrainSquared.shape[0],1)), XtrainSquared]\n",
    "XCVSquared = square_all_data.iloc[CrossValIndex, :]\n",
    "XCVSquared = XCVSquared.to_numpy()\n",
    "XCVSquared = np.c_[np.ones((XCVSquared.shape[0],1)), XCVSquared]\n",
    "\n",
    "ytrainSquared = all_ys.iloc[trainSetIndex]\n",
    "ytrainSquared = ytrainSquared.to_numpy()\n",
    "yCVSquared = all_ys.iloc[CrossValIndex]\n",
    "yCVSquared = yCVSquared.to_numpy()\n",
    "thetaSquared = computeTheta(XtrainSquared, ytrainSquared)\n",
    "yPredictCVSquared = XCVSquared.dot(thetaSquared)\n",
    "yPredictTSquared = XtrainSquared.dot(thetaSquared)\n",
    "\n",
    "print('The cross validation cost for the model with squared features is', computeCost(CrossVal_set_size, yPredictCVSquared, yCVSquared))\n",
    "print('The cross validation cost for the model with squared features is', computeCost(train_set_size, yPredictTSquared, ytrainSquared))"
   ]
  },
  {
   "cell_type": "markdown",
   "metadata": {},
   "source": [
    "This model actually performs worse than the last one.\n",
    "Is the problem bias or variance? Let's do another learning curve."
   ]
  }
 ],
 "metadata": {
  "kernelspec": {
   "display_name": "Python 3.8.3 32-bit",
   "language": "python",
   "name": "python38332bit34a52a6bc7f44ac1b0498f44c0e74f26"
  },
  "language_info": {
   "codemirror_mode": {
    "name": "ipython",
    "version": 3
   },
   "file_extension": ".py",
   "mimetype": "text/x-python",
   "name": "python",
   "nbconvert_exporter": "python",
   "pygments_lexer": "ipython3",
   "version": "3.8.3"
  }
 },
 "nbformat": 4,
 "nbformat_minor": 2
}
